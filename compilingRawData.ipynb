{
 "cells": [
  {
   "cell_type": "code",
   "execution_count": 3,
   "metadata": {},
   "outputs": [],
   "source": [
    "import pandas as pd\n",
    "import numpy as np"
   ]
  },
  {
   "cell_type": "code",
   "execution_count": 12,
   "metadata": {},
   "outputs": [],
   "source": [
    "paris_2024 = pd.read_csv(\"rawData/Paris_2024/athletes.csv\")\n",
    "sum_winter_1896_2016 = pd.read_csv(\"rawData/Summer_and_Winter_Games_1896-2016_TidyTuesday/athlete_events.csv\")\n",
    "tokyo_2020 = pd.read_csv(\"rawData/Tokyo_2020/2020_Olympics_Dataset.csv\", encoding='ISO-8859-1')\n",
    "beijing_2022 = pd.read_csv(\"rawData/Beijing_2022.csv\")\n",
    "#world_dev_indicators = pd.read_csv(\"rawData/world_dev_indicators.csv\")"
   ]
  }
 ],
 "metadata": {
  "kernelspec": {
   "display_name": "my_env",
   "language": "python",
   "name": "python3"
  },
  "language_info": {
   "codemirror_mode": {
    "name": "ipython",
    "version": 3
   },
   "file_extension": ".py",
   "mimetype": "text/x-python",
   "name": "python",
   "nbconvert_exporter": "python",
   "pygments_lexer": "ipython3",
   "version": "3.12.8"
  }
 },
 "nbformat": 4,
 "nbformat_minor": 2
}
